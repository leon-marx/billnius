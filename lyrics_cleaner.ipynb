{
 "cells": [
  {
   "cell_type": "code",
   "execution_count": 58,
   "id": "83371a4b",
   "metadata": {},
   "outputs": [
    {
     "name": "stderr",
     "output_type": "stream",
     "text": [
      "[nltk_data] Downloading package omw-1.4 to /Users/jacob/nltk_data...\n",
      "[nltk_data]   Package omw-1.4 is already up-to-date!\n",
      "[nltk_data] Downloading package stopwords to /Users/jacob/nltk_data...\n",
      "[nltk_data]   Package stopwords is already up-to-date!\n"
     ]
    },
    {
     "data": {
      "text/plain": [
       "True"
      ]
     },
     "execution_count": 58,
     "metadata": {},
     "output_type": "execute_result"
    }
   ],
   "source": [
    "import numpy as np\n",
    "import pandas as pd\n",
    "\n",
    "import os\n",
    "import re\n",
    "\n",
    "import nltk\n",
    "from nltk.corpus import gutenberg, wordnet, stopwords\n",
    "from nltk.tokenize import sent_tokenize , word_tokenize\n",
    "from nltk.stem import WordNetLemmatizer\n",
    "from string import punctuation\n",
    "\n",
    "nltk.download('omw-1.4')\n",
    "nltk.download('stopwords')"
   ]
  },
  {
   "cell_type": "code",
   "execution_count": 56,
   "id": "62c6949d",
   "metadata": {},
   "outputs": [],
   "source": [
    "# function to lemmatize\n",
    "\n",
    "lemmatizer = WordNetLemmatizer()\n",
    "\n",
    "# function to convert nltk tag to wordnet tag\n",
    "def nltk_to_wordnet(nltk_tag):\n",
    "    if nltk_tag.startswith('J'):\n",
    "        return wordnet.ADJ\n",
    "    elif nltk_tag.startswith('V'):\n",
    "        return wordnet.VERB\n",
    "    elif nltk_tag.startswith('N'):\n",
    "        return wordnet.NOUN\n",
    "    elif nltk_tag.startswith('R'):\n",
    "        return wordnet.ADV\n",
    "    else:          \n",
    "        return None\n",
    "    \n",
    "# list with stopwords and punctuation to remove\n",
    "stoplist = set(stopwords.words('english') + list(punctuation))\n",
    "\n",
    "def clean_lyrics(lyrics):\n",
    "    # change everything to lower case\n",
    "    lyrics = lyrics.lower()\n",
    "    # remove numbers\n",
    "    lyrics_nonum = re.sub(r'\\d+', '', lyrics)\n",
    "    \n",
    "    #tokenize the lyrics and find the POS tag for each token\n",
    "    nltk_tagged = nltk.pos_tag(nltk.word_tokenize(lyrics_nonum))  \n",
    "    \n",
    "    #tuple of (token, wordnet_tag)\n",
    "    wordnet_tagged = map(lambda x: (x[0], nltk_to_wordnet(x[1])), nltk_tagged)\n",
    "    lemmatized_lyrics = []\n",
    "    for word, tag in wordnet_tagged:\n",
    "        if tag is None:\n",
    "            #if there is no available tag, append the token as is\n",
    "            lemmatized_lyrics.append(word)\n",
    "        else:        \n",
    "            #else use the tag to lemmatize the token\n",
    "            lemmatized_lyrics.append(lemmatizer.lemmatize(word, tag))\n",
    "            \n",
    "    unique_tokens = unique_tokens = list(set(lemmatized_lyrics))\n",
    "    \n",
    "    # remove stopwords\n",
    "    unique_nostop = [word for word in unique_tokens if word not in stoplist]\n",
    "    return unique_nostop\n",
    "    "
   ]
  },
  {
   "cell_type": "code",
   "execution_count": 305,
   "id": "7afc5a5d",
   "metadata": {},
   "outputs": [
    {
     "data": {
      "text/plain": [
       "['A Holly Jolly Christmas by Burl Ives.txt',\n",
       " 'Circles by Post Malone.txt',\n",
       " \"Rockin' Around The Christmas Tree by Brenda Lee.txt\",\n",
       " 'All I Want For Christmas Is You by Mariah Carey.txt',\n",
       " 'Jingle Bell Rock by Bobby Helms.txt']"
      ]
     },
     "execution_count": 305,
     "metadata": {},
     "output_type": "execute_result"
    }
   ],
   "source": [
    "path_songs = \"billnius/songs/\"\n",
    "songlist = [song for song in os.listdir(path_songs) if os.path.isfile(os.path.join(path_songs, song))]\n",
    "songlist"
   ]
  },
  {
   "cell_type": "code",
   "execution_count": 307,
   "id": "09b7312e",
   "metadata": {},
   "outputs": [
    {
     "data": {
      "text/html": [
       "<div>\n",
       "<style scoped>\n",
       "    .dataframe tbody tr th:only-of-type {\n",
       "        vertical-align: middle;\n",
       "    }\n",
       "\n",
       "    .dataframe tbody tr th {\n",
       "        vertical-align: top;\n",
       "    }\n",
       "\n",
       "    .dataframe thead th {\n",
       "        text-align: right;\n",
       "    }\n",
       "</style>\n",
       "<table border=\"1\" class=\"dataframe\">\n",
       "  <thead>\n",
       "    <tr style=\"text-align: right;\">\n",
       "      <th></th>\n",
       "      <th>title</th>\n",
       "      <th>artist</th>\n",
       "      <th>lyrics</th>\n",
       "      <th>filename</th>\n",
       "    </tr>\n",
       "  </thead>\n",
       "  <tbody>\n",
       "    <tr>\n",
       "      <th>0</th>\n",
       "      <td>A Holly Jolly Christmas</td>\n",
       "      <td>Burl Ives</td>\n",
       "      <td>ives jolly like time best holly kiss might hun...</td>\n",
       "      <td>A Holly Jolly Christmas by Burl Ives.txt</td>\n",
       "    </tr>\n",
       "    <tr>\n",
       "      <th>0</th>\n",
       "      <td>Circles</td>\n",
       "      <td>Post Malone</td>\n",
       "      <td></td>\n",
       "      <td>Circles by Post Malone.txt</td>\n",
       "    </tr>\n",
       "    <tr>\n",
       "      <th>0</th>\n",
       "      <td>Rockin' Around The Christmas Tree</td>\n",
       "      <td>Brenda Lee</td>\n",
       "      <td>stop jolly new get holly try hop ahh-ahh-ahh r...</td>\n",
       "      <td>Rockin' Around The Christmas Tree by Brenda Le...</td>\n",
       "    </tr>\n",
       "    <tr>\n",
       "      <th>0</th>\n",
       "      <td>All I Want For Christmas Is You</td>\n",
       "      <td>Mariah Carey</td>\n",
       "      <td>bridge even day embed thing north reindeer lik...</td>\n",
       "      <td>All I Want For Christmas Is You by Mariah Care...</td>\n",
       "    </tr>\n",
       "    <tr>\n",
       "      <th>0</th>\n",
       "      <td>Jingle Bell Rock</td>\n",
       "      <td>Bobby Helms</td>\n",
       "      <td>bridge ring blowin night away sleigh bushel ji...</td>\n",
       "      <td>Jingle Bell Rock by Bobby Helms.txt</td>\n",
       "    </tr>\n",
       "  </tbody>\n",
       "</table>\n",
       "</div>"
      ],
      "text/plain": [
       "                                title         artist  \\\n",
       "0            A Holly Jolly Christmas       Burl Ives   \n",
       "0                            Circles     Post Malone   \n",
       "0  Rockin' Around The Christmas Tree      Brenda Lee   \n",
       "0    All I Want For Christmas Is You    Mariah Carey   \n",
       "0                   Jingle Bell Rock     Bobby Helms   \n",
       "\n",
       "                                              lyrics  \\\n",
       "0  ives jolly like time best holly kiss might hun...   \n",
       "0                                                      \n",
       "0  stop jolly new get holly try hop ahh-ahh-ahh r...   \n",
       "0  bridge even day embed thing north reindeer lik...   \n",
       "0  bridge ring blowin night away sleigh bushel ji...   \n",
       "\n",
       "                                            filename  \n",
       "0           A Holly Jolly Christmas by Burl Ives.txt  \n",
       "0                         Circles by Post Malone.txt  \n",
       "0  Rockin' Around The Christmas Tree by Brenda Le...  \n",
       "0  All I Want For Christmas Is You by Mariah Care...  \n",
       "0                Jingle Bell Rock by Bobby Helms.txt  "
      ]
     },
     "execution_count": 307,
     "metadata": {},
     "output_type": "execute_result"
    }
   ],
   "source": [
    "df_songs = pd.DataFrame(columns = ['title','artist'])\n",
    "song_lyrics = []\n",
    "\n",
    "for song in songlist:    \n",
    "    # getting title and artist from the file name\n",
    "    title_artist = pd.DataFrame(song[:-4].split('by',1))\n",
    "    title_artist = title_artist.transpose()\n",
    "    title_artist.columns = ['title','artist']\n",
    "        \n",
    "    # clean lyrics\n",
    "    source = open(os.path.join(path_songs, song), 'r', encoding='cp1252')\n",
    "    lyrics = source.read()\n",
    "    clean_tokens = clean_lyrics(lyrics)\n",
    "    lyrics_string = ' '.join(clean_tokens)\n",
    "    song_lyrics.append(lyrics_string)\n",
    "    \n",
    "    # add to the dataframe\n",
    "    df_songs = pd.concat([df_songs, title_artist])\n",
    "\n",
    "df_songs['lyrics'] = song_lyrics\n",
    "df_songs['filename'] = songlist\n",
    "\n",
    "df_songs"
   ]
  }
 ],
 "metadata": {
  "kernelspec": {
   "display_name": "Python 3 (ipykernel)",
   "language": "python",
   "name": "python3"
  },
  "language_info": {
   "codemirror_mode": {
    "name": "ipython",
    "version": 3
   },
   "file_extension": ".py",
   "mimetype": "text/x-python",
   "name": "python",
   "nbconvert_exporter": "python",
   "pygments_lexer": "ipython3",
   "version": "3.9.7"
  }
 },
 "nbformat": 4,
 "nbformat_minor": 5
}
