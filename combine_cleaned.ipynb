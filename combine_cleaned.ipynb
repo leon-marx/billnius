{
 "cells": [
  {
   "cell_type": "code",
   "execution_count": 1,
   "metadata": {},
   "outputs": [],
   "source": [
    "import pandas as pd"
   ]
  },
  {
   "cell_type": "code",
   "execution_count": 17,
   "metadata": {},
   "outputs": [],
   "source": [
    "for decade in [1950, 1960, 1970, 1980, 1990, 2000, 2010, 2020]:\n",
    "    df_list = []\n",
    "    # s = 0\n",
    "    for year in range(decade, decade+10, 1):\n",
    "        try:\n",
    "            df_list.append(pd.read_csv(f\"songs_cleaned/songs_{year}.csv\", sep=\";\"))\n",
    "            # s += len(df_list[-1].index)\n",
    "        except FileNotFoundError:\n",
    "            continue\n",
    "    dec_df = pd.concat(df_list)\n",
    "    # print(len(dec_df.index))\n",
    "    dec_df.drop_duplicates(subset=[\"filename\"], keep=\"first\", inplace=True)\n",
    "    # print(len(dec_df.index))\n",
    "    dec_df.to_csv(f\"songs_cleaned_decade/songs_{decade}.csv\", sep=\";\", index=False)\n",
    "    # print(s)"
   ]
  },
  {
   "cell_type": "code",
   "execution_count": null,
   "metadata": {},
   "outputs": [],
   "source": []
  }
 ],
 "metadata": {
  "kernelspec": {
   "display_name": "netscience",
   "language": "python",
   "name": "python3"
  },
  "language_info": {
   "codemirror_mode": {
    "name": "ipython",
    "version": 3
   },
   "file_extension": ".py",
   "mimetype": "text/x-python",
   "name": "python",
   "nbconvert_exporter": "python",
   "pygments_lexer": "ipython3",
   "version": "3.9.15"
  },
  "orig_nbformat": 4,
  "vscode": {
   "interpreter": {
    "hash": "8d6fe78df442a2821680c44ba2bb6e12dd7f31a25202dbe2c5c118e24ea90652"
   }
  }
 },
 "nbformat": 4,
 "nbformat_minor": 2
}
