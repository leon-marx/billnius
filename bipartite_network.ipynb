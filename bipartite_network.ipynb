{
 "cells": [
  {
   "cell_type": "code",
   "execution_count": 1,
   "id": "06ebae19",
   "metadata": {},
   "outputs": [],
   "source": [
    "# Import Packages\n",
    "\n",
    "import numpy as np\n",
    "import pandas as pd\n",
    "import networkx as nx\n",
    "import os\n",
    "import matplotlib.pyplot as plt\n",
    "import itertools"
   ]
  },
  {
   "cell_type": "code",
   "execution_count": 2,
   "id": "a90e7997",
   "metadata": {},
   "outputs": [],
   "source": [
    "# Load Data\n",
    "\n",
    "decade = 1950\n",
    "url = f\"https://raw.githubusercontent.com/leon-marx/billnius/main/songs_cleaned_decade/songs_{decade}.csv\"\n",
    "data = pd.read_csv(url, sep=';')"
   ]
  },
  {
   "cell_type": "code",
   "execution_count": 3,
   "id": "a2bbe21a",
   "metadata": {},
   "outputs": [],
   "source": [
    "# Get words, songs and edges\n",
    "\n",
    "words = []\n",
    "songs = []\n",
    "edges = []\n",
    "\n",
    "for songid in range(len(data['lyrics'])):\n",
    "    title = data.iloc[songid, 0]\n",
    "    songs.append(title)\n",
    "    lyrics = data.iloc[songid, 3]\n",
    "    for word in lyrics.split(\" \"):\n",
    "        words.append(word)\n",
    "        tupple = (title, word)\n",
    "        edges.append(tupple)\n",
    "        \n",
    "words, w_counts = np.unique(words, return_counts=True)\n",
    "words = [x for _, x in sorted(zip(w_counts, words))][::-1]\n",
    "w_counts = sorted(w_counts)[::-1]"
   ]
  },
  {
   "cell_type": "code",
   "execution_count": 4,
   "id": "e2784efb",
   "metadata": {},
   "outputs": [],
   "source": [
    "# Create Network\n",
    "\n",
    "G = nx.Graph()\n",
    "\n",
    "# add songs as nodes\n",
    "G.add_nodes_from(songs, bipartite=0)\n",
    "\n",
    "# add words as nodes\n",
    "G.add_nodes_from([\n",
    "        (word, {\"size\": w_counts[i]}) for i, word in enumerate(words)\n",
    "    ], bipartite=1)\n",
    "\n",
    "# add edges as nodes\n",
    "G.add_edges_from(edges)"
   ]
  },
  {
   "cell_type": "code",
   "execution_count": 5,
   "id": "2e41cf63",
   "metadata": {},
   "outputs": [],
   "source": [
    "# Export Bipartite Network\n",
    "nx.write_gexf(G, f'{decade}_bipartite.gexf')"
   ]
  }
 ],
 "metadata": {
  "kernelspec": {
   "display_name": "Python 3 (ipykernel)",
   "language": "python",
   "name": "python3"
  },
  "language_info": {
   "codemirror_mode": {
    "name": "ipython",
    "version": 3
   },
   "file_extension": ".py",
   "mimetype": "text/x-python",
   "name": "python",
   "nbconvert_exporter": "python",
   "pygments_lexer": "ipython3",
   "version": "3.9.7"
  }
 },
 "nbformat": 4,
 "nbformat_minor": 5
}
