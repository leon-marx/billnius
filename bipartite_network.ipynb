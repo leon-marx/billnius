{
 "cells": [
  {
   "cell_type": "code",
   "execution_count": 1,
   "id": "06ebae19",
   "metadata": {},
   "outputs": [],
   "source": [
    "# Import Packages\n",
    "\n",
    "import numpy as np\n",
    "import pandas as pd\n",
    "import networkx as nx\n",
    "import os\n",
    "import matplotlib.pyplot as plt\n",
    "import itertools"
   ]
  },
  {
   "cell_type": "code",
   "execution_count": 2,
   "id": "a90e7997",
   "metadata": {},
   "outputs": [],
   "source": [
    "# Load Data\n",
    "\n",
    "decade = 1950\n",
    "url = f\"https://raw.githubusercontent.com/leon-marx/billnius/main/songs_cleaned_decade/songs_{decade}.csv\"\n",
    "data = pd.read_csv(url, sep=';')"
   ]
  },
  {
   "cell_type": "code",
   "execution_count": 31,
   "id": "a2bbe21a",
   "metadata": {},
   "outputs": [],
   "source": [
    "# Get words, songs and edges\n",
    "\n",
    "words = []\n",
    "songs = []\n",
    "edges = []\n",
    "\n",
    "for songid in range(len(data['lyrics'])):\n",
    "    title = data.iloc[songid, 2]\n",
    "    title = title[:-4]\n",
    "    songs.append(title)\n",
    "    lyrics = data.iloc[songid, 3]\n",
    "    for word in lyrics.split(\" \"):\n",
    "        words.append(word)\n",
    "        tupple = (title, word)\n",
    "        edges.append(tupple)\n",
    "        \n",
    "words, w_counts = np.unique(words, return_counts=True)\n",
    "words = [x for _, x in sorted(zip(w_counts, words))][::-1]\n",
    "w_counts = sorted(w_counts)[::-1]"
   ]
  },
  {
   "cell_type": "code",
   "execution_count": 39,
   "id": "e2784efb",
   "metadata": {},
   "outputs": [],
   "source": [
    "# Create Network\n",
    "\n",
    "G = nx.Graph()\n",
    "\n",
    "# add songs as nodes\n",
    "G.add_nodes_from(songs, bipartite=0)\n",
    "\n",
    "# add words as nodes\n",
    "G.add_nodes_from([\n",
    "        (word, {\"size\": w_counts[i]}) for i, word in enumerate(words)\n",
    "    ], bipartite=1)\n",
    "\n",
    "# add edges as nodes\n",
    "G.add_edges_from(edges)"
   ]
  },
  {
   "cell_type": "code",
   "execution_count": 30,
   "id": "2e41cf63",
   "metadata": {},
   "outputs": [],
   "source": [
    "# Export Bipartite Network\n",
    "nx.write_gexf(G, f'{decade}_bipartite.gexf')"
   ]
  },
  {
   "cell_type": "code",
   "execution_count": 48,
   "id": "066f0d38",
   "metadata": {},
   "outputs": [
    {
     "ename": "KeyboardInterrupt",
     "evalue": "",
     "output_type": "error",
     "traceback": [
      "\u001b[0;31m---------------------------------------------------------------------------\u001b[0m",
      "\u001b[0;31mKeyboardInterrupt\u001b[0m                         Traceback (most recent call last)",
      "Input \u001b[0;32mIn [48]\u001b[0m, in \u001b[0;36m<cell line: 6>\u001b[0;34m()\u001b[0m\n\u001b[1;32m      3\u001b[0m songs \u001b[38;5;241m=\u001b[39m {n \u001b[38;5;28;01mfor\u001b[39;00m n, d \u001b[38;5;129;01min\u001b[39;00m G\u001b[38;5;241m.\u001b[39mnodes(data\u001b[38;5;241m=\u001b[39m\u001b[38;5;28;01mTrue\u001b[39;00m) \u001b[38;5;28;01mif\u001b[39;00m d[\u001b[38;5;124m\"\u001b[39m\u001b[38;5;124mbipartite\u001b[39m\u001b[38;5;124m\"\u001b[39m] \u001b[38;5;241m==\u001b[39m \u001b[38;5;241m0\u001b[39m}\n\u001b[1;32m      4\u001b[0m words \u001b[38;5;241m=\u001b[39m \u001b[38;5;28mset\u001b[39m(G) \u001b[38;5;241m-\u001b[39m songs\n\u001b[0;32m----> 6\u001b[0m G_words \u001b[38;5;241m=\u001b[39m \u001b[43mbipartite\u001b[49m\u001b[38;5;241;43m.\u001b[39;49m\u001b[43mprojected_graph\u001b[49m\u001b[43m(\u001b[49m\u001b[43mG\u001b[49m\u001b[43m,\u001b[49m\u001b[43m \u001b[49m\u001b[43mwords\u001b[49m\u001b[43m)\u001b[49m\n",
      "File \u001b[0;32m~/opt/anaconda3/lib/python3.9/site-packages/networkx/algorithms/bipartite/projection.py:114\u001b[0m, in \u001b[0;36mprojected_graph\u001b[0;34m(B, nodes, multigraph)\u001b[0m\n\u001b[1;32m    112\u001b[0m                     G\u001b[38;5;241m.\u001b[39madd_edge(u, n, key\u001b[38;5;241m=\u001b[39ml)\n\u001b[1;32m    113\u001b[0m     \u001b[38;5;28;01melse\u001b[39;00m:\n\u001b[0;32m--> 114\u001b[0m         \u001b[43mG\u001b[49m\u001b[38;5;241;43m.\u001b[39;49m\u001b[43madd_edges_from\u001b[49m\u001b[43m(\u001b[49m\u001b[43m(\u001b[49m\u001b[43mu\u001b[49m\u001b[43m,\u001b[49m\u001b[43m \u001b[49m\u001b[43mn\u001b[49m\u001b[43m)\u001b[49m\u001b[43m \u001b[49m\u001b[38;5;28;43;01mfor\u001b[39;49;00m\u001b[43m \u001b[49m\u001b[43mn\u001b[49m\u001b[43m \u001b[49m\u001b[38;5;129;43;01min\u001b[39;49;00m\u001b[43m \u001b[49m\u001b[43mnbrs2\u001b[49m\u001b[43m)\u001b[49m\n\u001b[1;32m    115\u001b[0m \u001b[38;5;28;01mreturn\u001b[39;00m G\n",
      "File \u001b[0;32m~/opt/anaconda3/lib/python3.9/site-packages/networkx/classes/graph.py:1039\u001b[0m, in \u001b[0;36mGraph.add_edges_from\u001b[0;34m(self, ebunch_to_add, **attr)\u001b[0m\n\u001b[1;32m   1037\u001b[0m datadict\u001b[38;5;241m.\u001b[39mupdate(dd)\n\u001b[1;32m   1038\u001b[0m \u001b[38;5;28mself\u001b[39m\u001b[38;5;241m.\u001b[39m_adj[u][v] \u001b[38;5;241m=\u001b[39m datadict\n\u001b[0;32m-> 1039\u001b[0m \u001b[38;5;28mself\u001b[39m\u001b[38;5;241m.\u001b[39m_adj[v][u] \u001b[38;5;241m=\u001b[39m datadict\n",
      "\u001b[0;31mKeyboardInterrupt\u001b[0m: "
     ]
    }
   ],
   "source": [
    "from networkx.algorithms import bipartite\n",
    "\n",
    "songs = {n for n, d in G.nodes(data=True) if d[\"bipartite\"] == 0}\n",
    "words = set(G) - songs\n",
    "\n",
    "G_words = bipartite.projected_graph(G, words)"
   ]
  },
  {
   "cell_type": "code",
   "execution_count": 45,
   "id": "52d47b50",
   "metadata": {},
   "outputs": [],
   "source": [
    "from networkx.algorithms.community import louvain_communities, greedy_modularity_communities"
   ]
  },
  {
   "cell_type": "code",
   "execution_count": null,
   "id": "11185aca",
   "metadata": {},
   "outputs": [],
   "source": [
    "communitites = louvain_communities(G_words)"
   ]
  }
 ],
 "metadata": {
  "kernelspec": {
   "display_name": "Python 3 (ipykernel)",
   "language": "python",
   "name": "python3"
  },
  "language_info": {
   "codemirror_mode": {
    "name": "ipython",
    "version": 3
   },
   "file_extension": ".py",
   "mimetype": "text/x-python",
   "name": "python",
   "nbconvert_exporter": "python",
   "pygments_lexer": "ipython3",
   "version": "3.9.7"
  }
 },
 "nbformat": 4,
 "nbformat_minor": 5
}
